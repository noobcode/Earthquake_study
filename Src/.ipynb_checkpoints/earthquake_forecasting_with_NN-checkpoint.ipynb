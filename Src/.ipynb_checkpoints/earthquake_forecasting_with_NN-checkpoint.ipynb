{
 "cells": [
  {
   "cell_type": "code",
   "execution_count": 26,
   "metadata": {},
   "outputs": [],
   "source": [
    "import numpy as np\n",
    "import pandas as pd\n",
    "import matplotlib.pyplot as plt\n",
    "from sklearn.preprocessing import *\n",
    "from datetime import datetime\n",
    "import time\n",
    "import matplotlib.pyplot as plt\n",
    "from keras.models import Sequential\n",
    "from keras.layers.core import Dense, Dropout\n",
    "from keras.layers.recurrent import LSTM, GRU\n",
    "from keras.callbacks import EarlyStopping, ModelCheckpoint\n",
    "from keras import backend as K"
   ]
  },
  {
   "cell_type": "code",
   "execution_count": 2,
   "metadata": {},
   "outputs": [
    {
     "data": {
      "text/html": [
       "<div>\n",
       "<style scoped>\n",
       "    .dataframe tbody tr th:only-of-type {\n",
       "        vertical-align: middle;\n",
       "    }\n",
       "\n",
       "    .dataframe tbody tr th {\n",
       "        vertical-align: top;\n",
       "    }\n",
       "\n",
       "    .dataframe thead th {\n",
       "        text-align: right;\n",
       "    }\n",
       "</style>\n",
       "<table border=\"1\" class=\"dataframe\">\n",
       "  <thead>\n",
       "    <tr style=\"text-align: right;\">\n",
       "      <th></th>\n",
       "      <th>Time</th>\n",
       "      <th>Latitude</th>\n",
       "      <th>Longitude</th>\n",
       "      <th>Depth/Km</th>\n",
       "      <th>Magnitude</th>\n",
       "      <th>EventLocationName</th>\n",
       "    </tr>\n",
       "  </thead>\n",
       "  <tbody>\n",
       "    <tr>\n",
       "      <th>0</th>\n",
       "      <td>2010-10-13T21:41:46.570000</td>\n",
       "      <td>42.623</td>\n",
       "      <td>12.756</td>\n",
       "      <td>10.5</td>\n",
       "      <td>1.7</td>\n",
       "      <td>3 km W Ferentillo (TR)</td>\n",
       "    </tr>\n",
       "    <tr>\n",
       "      <th>1</th>\n",
       "      <td>2010-10-13T21:43:14.530000</td>\n",
       "      <td>42.457</td>\n",
       "      <td>13.390</td>\n",
       "      <td>10.8</td>\n",
       "      <td>1.7</td>\n",
       "      <td>8 km E Pizzoli (AQ)</td>\n",
       "    </tr>\n",
       "    <tr>\n",
       "      <th>2</th>\n",
       "      <td>2010-10-13T23:35:35.700000</td>\n",
       "      <td>42.470</td>\n",
       "      <td>13.377</td>\n",
       "      <td>11.0</td>\n",
       "      <td>0.8</td>\n",
       "      <td>8 km E Pizzoli (AQ)</td>\n",
       "    </tr>\n",
       "    <tr>\n",
       "      <th>3</th>\n",
       "      <td>2010-10-13T23:44:28.160000</td>\n",
       "      <td>42.474</td>\n",
       "      <td>13.393</td>\n",
       "      <td>12.9</td>\n",
       "      <td>1.3</td>\n",
       "      <td>9 km E Pizzoli (AQ)</td>\n",
       "    </tr>\n",
       "    <tr>\n",
       "      <th>4</th>\n",
       "      <td>2010-10-13T23:46:11.610000</td>\n",
       "      <td>42.448</td>\n",
       "      <td>13.387</td>\n",
       "      <td>10.2</td>\n",
       "      <td>2.0</td>\n",
       "      <td>8 km E Pizzoli (AQ)</td>\n",
       "    </tr>\n",
       "  </tbody>\n",
       "</table>\n",
       "</div>"
      ],
      "text/plain": [
       "                         Time  Latitude  Longitude  Depth/Km  Magnitude  \\\n",
       "0  2010-10-13T21:41:46.570000    42.623     12.756      10.5        1.7   \n",
       "1  2010-10-13T21:43:14.530000    42.457     13.390      10.8        1.7   \n",
       "2  2010-10-13T23:35:35.700000    42.470     13.377      11.0        0.8   \n",
       "3  2010-10-13T23:44:28.160000    42.474     13.393      12.9        1.3   \n",
       "4  2010-10-13T23:46:11.610000    42.448     13.387      10.2        2.0   \n",
       "\n",
       "        EventLocationName  \n",
       "0  3 km W Ferentillo (TR)  \n",
       "1     8 km E Pizzoli (AQ)  \n",
       "2     8 km E Pizzoli (AQ)  \n",
       "3     9 km E Pizzoli (AQ)  \n",
       "4     8 km E Pizzoli (AQ)  "
      ]
     },
     "execution_count": 2,
     "metadata": {},
     "output_type": "execute_result"
    }
   ],
   "source": [
    "data  = pd.read_csv('../Data/earthquake_dataset.csv')\n",
    "data.head()"
   ]
  },
  {
   "cell_type": "markdown",
   "metadata": {},
   "source": [
    "## Feature engineering\n",
    "Converts 'Time' to the following features:\n",
    "- Year\n",
    "- Month = $\\{1,...12\\}$\n",
    "- Day = $\\{1,...,31\\}$\n",
    "- DayTime = $\\{0,1,2\\}$ "
   ]
  },
  {
   "cell_type": "code",
   "execution_count": 4,
   "metadata": {},
   "outputs": [
    {
     "data": {
      "text/html": [
       "<div>\n",
       "<style scoped>\n",
       "    .dataframe tbody tr th:only-of-type {\n",
       "        vertical-align: middle;\n",
       "    }\n",
       "\n",
       "    .dataframe tbody tr th {\n",
       "        vertical-align: top;\n",
       "    }\n",
       "\n",
       "    .dataframe thead th {\n",
       "        text-align: right;\n",
       "    }\n",
       "</style>\n",
       "<table border=\"1\" class=\"dataframe\">\n",
       "  <thead>\n",
       "    <tr style=\"text-align: right;\">\n",
       "      <th></th>\n",
       "      <th>Latitude</th>\n",
       "      <th>Longitude</th>\n",
       "      <th>Depth/Km</th>\n",
       "      <th>Magnitude</th>\n",
       "      <th>Time/d</th>\n",
       "    </tr>\n",
       "  </thead>\n",
       "  <tbody>\n",
       "    <tr>\n",
       "      <th>0</th>\n",
       "      <td>42.623</td>\n",
       "      <td>12.756</td>\n",
       "      <td>10.5</td>\n",
       "      <td>1.7</td>\n",
       "      <td>14895</td>\n",
       "    </tr>\n",
       "    <tr>\n",
       "      <th>1</th>\n",
       "      <td>42.457</td>\n",
       "      <td>13.390</td>\n",
       "      <td>10.8</td>\n",
       "      <td>1.7</td>\n",
       "      <td>14895</td>\n",
       "    </tr>\n",
       "    <tr>\n",
       "      <th>2</th>\n",
       "      <td>42.470</td>\n",
       "      <td>13.377</td>\n",
       "      <td>11.0</td>\n",
       "      <td>0.8</td>\n",
       "      <td>14895</td>\n",
       "    </tr>\n",
       "    <tr>\n",
       "      <th>3</th>\n",
       "      <td>42.474</td>\n",
       "      <td>13.393</td>\n",
       "      <td>12.9</td>\n",
       "      <td>1.3</td>\n",
       "      <td>14895</td>\n",
       "    </tr>\n",
       "    <tr>\n",
       "      <th>4</th>\n",
       "      <td>42.448</td>\n",
       "      <td>13.387</td>\n",
       "      <td>10.2</td>\n",
       "      <td>2.0</td>\n",
       "      <td>14895</td>\n",
       "    </tr>\n",
       "  </tbody>\n",
       "</table>\n",
       "</div>"
      ],
      "text/plain": [
       "   Latitude  Longitude  Depth/Km  Magnitude  Time/d\n",
       "0    42.623     12.756      10.5        1.7   14895\n",
       "1    42.457     13.390      10.8        1.7   14895\n",
       "2    42.470     13.377      11.0        0.8   14895\n",
       "3    42.474     13.393      12.9        1.3   14895\n",
       "4    42.448     13.387      10.2        2.0   14895"
      ]
     },
     "execution_count": 4,
     "metadata": {},
     "output_type": "execute_result"
    }
   ],
   "source": [
    "dates = [datetime.strptime(x, '%Y-%m-%dT%H:%M:%S.%f') for x in data['Time']]\n",
    "time_s = [int(time.mktime(d.timetuple()) / (60*60*24)) for d in dates]  # days since epoch\n",
    "\n",
    "years = [d.year for d in dates]\n",
    "months = [d.month for d in dates]\n",
    "days = [d.day for d in dates]\n",
    "hours = [d.hour for d in dates]\n",
    "\n",
    "# TODO: maybe use this\n",
    "day_time = []\n",
    "for h in hours:\n",
    "    if h >= 0 and h <8: # morning\n",
    "        day_time.append(0)\n",
    "    elif h >= 8 and h < 16: # afternoon\n",
    "        day_time.append(1)\n",
    "    elif h >= 16 or h <= 23:\n",
    "        day_time.append(2)\n",
    "    \n",
    "\n",
    "data['Year'] = years\n",
    "data['Month'] = months\n",
    "data['Day'] = days\n",
    "data['Hour'] = hours \n",
    "# TODO: maybe use this\n",
    "data['DayTime'] = day_time\n",
    "data['Time/d'] = time_s\n",
    "\n",
    "# select features\n",
    "features = ['Latitude', 'Longitude', 'Depth/Km', 'Magnitude', 'Time/d'] # 'Year', 'Month', 'Day']#, 'Hour']\n",
    "data[features].head()"
   ]
  },
  {
   "cell_type": "markdown",
   "metadata": {},
   "source": [
    "## Create dataset"
   ]
  },
  {
   "cell_type": "code",
   "execution_count": 10,
   "metadata": {},
   "outputs": [
    {
     "data": {
      "text/plain": [
       "(29969, 5)"
      ]
     },
     "execution_count": 10,
     "metadata": {},
     "output_type": "execute_result"
    }
   ],
   "source": [
    "X_data = data[features].values\n",
    "X_data.shape"
   ]
  },
  {
   "cell_type": "markdown",
   "metadata": {},
   "source": [
    "#### Preprocessing"
   ]
  },
  {
   "cell_type": "code",
   "execution_count": 11,
   "metadata": {
    "collapsed": true
   },
   "outputs": [],
   "source": [
    "standardizer = StandardScaler()\n",
    "X_data = standardizer.fit_transform(X_data)"
   ]
  },
  {
   "cell_type": "markdown",
   "metadata": {},
   "source": [
    "#### Train / Validation / Test split"
   ]
  },
  {
   "cell_type": "code",
   "execution_count": 12,
   "metadata": {
    "collapsed": true
   },
   "outputs": [],
   "source": [
    "# split between train and validation\n",
    "tr_size = int(0.7 * len(X_data))\n",
    "vl_size = int(0.2 * len(X_data))\n",
    "ts_size = int(0.1 * len(X_data))\n",
    "\n",
    "X_data_train, X_data_val, X_data_test = X_data[:tr_size,:], X_data[tr_size:tr_size+vl_size,:], X_data[-ts_size:,:]"
   ]
  },
  {
   "cell_type": "code",
   "execution_count": 13,
   "metadata": {
    "collapsed": true
   },
   "outputs": [],
   "source": [
    "def create_dataset(dataset, look_back=1):\n",
    "    \"\"\"\n",
    "    creates pairs of past 'look_back' sequences and next target sequence\n",
    "    \"\"\"\n",
    "    X, Y = [], []\n",
    "    to_predict = ['Latitude', 'Longitude', 'Magnitude', 'Time/s']\n",
    "    for i in range(len(dataset)-look_back-1):\n",
    "        sequences = dataset[i:(i+look_back)]\n",
    "        target_sequence = dataset[i + look_back:i+look_back+1][:, [0,1,3,4]] # do not predict depth\n",
    "        X.append(np.array(sequences))\n",
    "        Y.append(np.array(target_sequence))\n",
    "        \n",
    "    return np.array(X), np.array(Y)"
   ]
  },
  {
   "cell_type": "code",
   "execution_count": 14,
   "metadata": {},
   "outputs": [
    {
     "name": "stdout",
     "output_type": "stream",
     "text": [
      "((20927, 50, 5), (20927, 1, 4))\n"
     ]
    }
   ],
   "source": [
    "look_back = 50\n",
    "\n",
    "X_train, Y_train = create_dataset(X_data_train, look_back)\n",
    "X_val, Y_val = create_dataset(X_data_val, look_back)\n",
    "X_test, Y_test = create_dataset(X_data_test, look_back)\n",
    "\n",
    "print (X_train.shape, Y_train.shape)"
   ]
  },
  {
   "cell_type": "markdown",
   "metadata": {},
   "source": [
    "#### Loss function"
   ]
  },
  {
   "cell_type": "code",
   "execution_count": 44,
   "metadata": {
    "collapsed": true
   },
   "outputs": [],
   "source": [
    "def custom_objective(y_true, y_pred):\n",
    "    square = K.square(y_pred[:2] - y_true[:2])\n",
    "    a = K.sqrt(K.mean(square, axis=-1))\n",
    "    b = 5#K.sum(K.abs(y_true[:, 2:] - y_pred[:, 2:]), axis=-1)\n",
    "    return (a + b) / 5 "
   ]
  },
  {
   "cell_type": "markdown",
   "metadata": {},
   "source": [
    "### Training callbacks"
   ]
  },
  {
   "cell_type": "code",
   "execution_count": 17,
   "metadata": {
    "collapsed": true
   },
   "outputs": [],
   "source": [
    "filepath = 'model.{epoch:02d}-{val_loss:.5f}.hdf5'\n",
    "model_checkpoint = ModelCheckpoint(filepath, monitor='val_loss', verbose=0, save_best_only=True, save_weights_only=False)"
   ]
  },
  {
   "cell_type": "markdown",
   "metadata": {},
   "source": [
    "# Model definition"
   ]
  },
  {
   "cell_type": "code",
   "execution_count": 73,
   "metadata": {
    "scrolled": true
   },
   "outputs": [
    {
     "name": "stderr",
     "output_type": "stream",
     "text": [
      "/home/carlo/anaconda2/lib/python2.7/site-packages/ipykernel_launcher.py:9: UserWarning: The `input_dim` and `input_length` arguments in recurrent layers are deprecated. Use `input_shape` instead.\n",
      "  if __name__ == '__main__':\n",
      "/home/carlo/anaconda2/lib/python2.7/site-packages/ipykernel_launcher.py:9: UserWarning: Update your `LSTM` call to the Keras 2 API: `LSTM(units=16, return_sequences=True, input_shape=(None, 5))`\n",
      "  if __name__ == '__main__':\n",
      "/home/carlo/anaconda2/lib/python2.7/site-packages/ipykernel_launcher.py:14: UserWarning: Update your `LSTM` call to the Keras 2 API: `LSTM(units=8, return_sequences=True)`\n",
      "  \n"
     ]
    },
    {
     "name": "stdout",
     "output_type": "stream",
     "text": [
      "_________________________________________________________________\n",
      "Layer (type)                 Output Shape              Param #   \n",
      "=================================================================\n",
      "lstm_43 (LSTM)               (None, None, 16)          1408      \n",
      "_________________________________________________________________\n",
      "lstm_44 (LSTM)               (None, None, 8)           800       \n",
      "_________________________________________________________________\n",
      "dense_51 (Dense)             (None, None, 64)          576       \n",
      "_________________________________________________________________\n",
      "dense_52 (Dense)             (None, None, 32)          2080      \n",
      "_________________________________________________________________\n",
      "dense_53 (Dense)             (None, None, 4)           132       \n",
      "=================================================================\n",
      "Total params: 4,996\n",
      "Trainable params: 4,996\n",
      "Non-trainable params: 0\n",
      "_________________________________________________________________\n"
     ]
    }
   ],
   "source": [
    "n_inputs = X_train.shape[2]\n",
    "n_outputs = Y_train.shape[2]\n",
    "\n",
    "model = Sequential()\n",
    "\n",
    "model.add(LSTM(\n",
    "    input_dim=n_inputs,\n",
    "    output_dim=16,\n",
    "    return_sequences=True))\n",
    "#model.add(Dropout(0.1))\n",
    "\n",
    "model.add(LSTM(\n",
    "    output_dim=8,\n",
    "    return_sequences=True))\n",
    "#model.add(Dropout(0.1))\n",
    "\n",
    "model.add(Dense(64, activation='tanh'))\n",
    "model.add(Dense(32, activation='tanh'))\n",
    "#model.add(Dropout(0.1))\n",
    "model.add(Dense(n_outputs))\n",
    "\n",
    "model.compile(loss='mse', optimizer='rmsprop')\n",
    "\n",
    "model.summary()"
   ]
  },
  {
   "cell_type": "code",
   "execution_count": 75,
   "metadata": {
    "scrolled": true
   },
   "outputs": [
    {
     "name": "stdout",
     "output_type": "stream",
     "text": [
      "Train on 500 samples, validate on 5942 samples\n",
      "Epoch 1/20\n",
      "500/500 [==============================] - 17s 34ms/step - loss: 0.5116 - val_loss: 0.4677\n",
      "Epoch 2/20\n",
      "500/500 [==============================] - 16s 33ms/step - loss: 0.4360 - val_loss: 0.4545\n",
      "Epoch 3/20\n",
      "500/500 [==============================] - 17s 34ms/step - loss: 0.4291 - val_loss: 0.4515\n",
      "Epoch 4/20\n",
      "500/500 [==============================] - 18s 37ms/step - loss: 0.4269 - val_loss: 0.4504\n",
      "Epoch 5/20\n",
      "500/500 [==============================] - 18s 35ms/step - loss: 0.4258 - val_loss: 0.4496\n",
      "Epoch 6/20\n",
      "500/500 [==============================] - 18s 36ms/step - loss: 0.4252 - val_loss: 0.4492\n",
      "Epoch 7/20\n",
      "500/500 [==============================] - 19s 37ms/step - loss: 0.4248 - val_loss: 0.4489\n",
      "Epoch 8/20\n",
      "500/500 [==============================] - 18s 37ms/step - loss: 0.4244 - val_loss: 0.4488\n",
      "Epoch 9/20\n",
      "500/500 [==============================] - 19s 38ms/step - loss: 0.4241 - val_loss: 0.4487\n",
      "Epoch 10/20\n",
      "500/500 [==============================] - 20s 40ms/step - loss: 0.4238 - val_loss: 0.4487\n",
      "Epoch 11/20\n",
      "500/500 [==============================] - 19s 38ms/step - loss: 0.4236 - val_loss: 0.4489\n",
      "Epoch 12/20\n",
      "500/500 [==============================] - 19s 38ms/step - loss: 0.4229 - val_loss: 0.4498\n",
      "Epoch 13/20\n",
      "500/500 [==============================] - 19s 38ms/step - loss: 0.4217 - val_loss: 0.4524\n",
      "Epoch 14/20\n",
      "500/500 [==============================] - 18s 36ms/step - loss: 0.4206 - val_loss: 0.4553\n",
      "Epoch 15/20\n",
      "500/500 [==============================] - 18s 36ms/step - loss: 0.4204 - val_loss: 0.4553\n",
      "Epoch 16/20\n",
      "500/500 [==============================] - 19s 37ms/step - loss: 0.4206 - val_loss: 0.4552\n",
      "Epoch 17/20\n",
      "500/500 [==============================] - 19s 38ms/step - loss: 0.4213 - val_loss: 0.4533\n",
      "Epoch 18/20\n",
      "500/500 [==============================] - 18s 37ms/step - loss: 0.4194 - val_loss: 0.4564\n",
      "Epoch 19/20\n",
      "500/500 [==============================] - 17s 35ms/step - loss: 0.4210 - val_loss: 0.4542\n",
      "Epoch 20/20\n",
      "500/500 [==============================] - 17s 35ms/step - loss: 0.4216 - val_loss: 0.4534\n"
     ]
    }
   ],
   "source": [
    "epochs = 20\n",
    "batch_size = 10\n",
    "\n",
    "history = model.fit(X_train[-500:], Y_train[-500:],\n",
    "                    batch_size=batch_size,\n",
    "                    verbose=1, \n",
    "                    callbacks=[model_checkpoint],\n",
    "                    epochs=epochs,\n",
    "                    validation_data=(X_val, Y_val),\n",
    "                    shuffle=False)"
   ]
  },
  {
   "cell_type": "markdown",
   "metadata": {},
   "source": [
    "### Learning curve plot"
   ]
  },
  {
   "cell_type": "code",
   "execution_count": 76,
   "metadata": {},
   "outputs": [
    {
     "data": {
      "image/png": "[encoded data removed]",
      "text/plain": [
       "<matplotlib.figure.Figure at 0x7f1cb0bcc6d0>"
      ]
     },
     "metadata": {},
     "output_type": "display_data"
    }
   ],
   "source": [
    "loss = history.history['loss']\n",
    "val_loss = history.history['val_loss']\n",
    "\n",
    "plt.plot(loss, linewidth=3, label='train', linestyle='--')\n",
    "plt.plot(val_loss, linewidth=3, label='valid')\n",
    "plt.grid()\n",
    "plt.legend()\n",
    "plt.xlabel('epoch')\n",
    "plt.ylabel('loss')\n",
    "#plt.ylim(1e-3, 1e-2)\n",
    "#plt.yscale('log') \n",
    "#plt.savefig()\n",
    "#plt.title('Learning Curve Training vs Validation')\n",
    "plt.show()"
   ]
  },
  {
   "cell_type": "code",
   "execution_count": 77,
   "metadata": {},
   "outputs": [
    {
     "name": "stdout",
     "output_type": "stream",
     "text": [
      "2945/2945 [==============================] - 2s 809us/step\n"
     ]
    },
    {
     "data": {
      "text/plain": [
       "0.47915643367581134"
      ]
     },
     "execution_count": 77,
     "metadata": {},
     "output_type": "execute_result"
    }
   ],
   "source": [
    "model.evaluate(X_test, Y_test)"
   ]
  }
 ],
 "metadata": {
  "kernelspec": {
   "display_name": "Python 2",
   "language": "python",
   "name": "python2"
  },
  "language_info": {
   "codemirror_mode": {
    "name": "ipython",
    "version": 2
   },
   "file_extension": ".py",
   "mimetype": "text/x-python",
   "name": "python",
   "nbconvert_exporter": "python",
   "pygments_lexer": "ipython2",
   "version": "2.7.14"
  }
 },
 "nbformat": 4,
 "nbformat_minor": 2
}
