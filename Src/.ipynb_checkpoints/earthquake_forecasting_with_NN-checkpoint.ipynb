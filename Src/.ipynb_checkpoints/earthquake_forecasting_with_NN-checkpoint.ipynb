{
 "cells": [
  {
   "cell_type": "code",
   "execution_count": 1,
   "metadata": {},
   "outputs": [
    {
     "name": "stderr",
     "output_type": "stream",
     "text": [
      "Using TensorFlow backend.\n"
     ]
    }
   ],
   "source": [
    "import numpy as np\n",
    "import pandas as pd\n",
    "import matplotlib.pyplot as plt\n",
    "from sklearn.preprocessing import *\n",
    "from datetime import datetime\n",
    "import time\n",
    "import matplotlib.pyplot as plt\n",
    "from keras.models import Sequential\n",
    "from keras.layers.core import Dense, Dropout\n",
    "from keras.layers.recurrent import LSTM, GRU\n",
    "from keras.callbacks import EarlyStopping, ModelCheckpoint\n",
    "from keras import backend as K\n",
    "from keras.utils import np_utils"
   ]
  },
  {
   "cell_type": "code",
   "execution_count": 2,
   "metadata": {},
   "outputs": [
    {
     "data": {
      "text/html": [
       "<div>\n",
       "<style scoped>\n",
       "    .dataframe tbody tr th:only-of-type {\n",
       "        vertical-align: middle;\n",
       "    }\n",
       "\n",
       "    .dataframe tbody tr th {\n",
       "        vertical-align: top;\n",
       "    }\n",
       "\n",
       "    .dataframe thead th {\n",
       "        text-align: right;\n",
       "    }\n",
       "</style>\n",
       "<table border=\"1\" class=\"dataframe\">\n",
       "  <thead>\n",
       "    <tr style=\"text-align: right;\">\n",
       "      <th></th>\n",
       "      <th>Time</th>\n",
       "      <th>Latitude</th>\n",
       "      <th>Longitude</th>\n",
       "      <th>Depth/Km</th>\n",
       "      <th>Magnitude</th>\n",
       "      <th>EventLocationName</th>\n",
       "    </tr>\n",
       "  </thead>\n",
       "  <tbody>\n",
       "    <tr>\n",
       "      <th>0</th>\n",
       "      <td>2010-10-13T21:41:46.570000</td>\n",
       "      <td>42.623</td>\n",
       "      <td>12.756</td>\n",
       "      <td>10.5</td>\n",
       "      <td>1.7</td>\n",
       "      <td>3 km W Ferentillo (TR)</td>\n",
       "    </tr>\n",
       "    <tr>\n",
       "      <th>1</th>\n",
       "      <td>2010-10-13T21:43:14.530000</td>\n",
       "      <td>42.457</td>\n",
       "      <td>13.390</td>\n",
       "      <td>10.8</td>\n",
       "      <td>1.7</td>\n",
       "      <td>8 km E Pizzoli (AQ)</td>\n",
       "    </tr>\n",
       "    <tr>\n",
       "      <th>2</th>\n",
       "      <td>2010-10-13T23:35:35.700000</td>\n",
       "      <td>42.470</td>\n",
       "      <td>13.377</td>\n",
       "      <td>11.0</td>\n",
       "      <td>0.8</td>\n",
       "      <td>8 km E Pizzoli (AQ)</td>\n",
       "    </tr>\n",
       "    <tr>\n",
       "      <th>3</th>\n",
       "      <td>2010-10-13T23:44:28.160000</td>\n",
       "      <td>42.474</td>\n",
       "      <td>13.393</td>\n",
       "      <td>12.9</td>\n",
       "      <td>1.3</td>\n",
       "      <td>9 km E Pizzoli (AQ)</td>\n",
       "    </tr>\n",
       "    <tr>\n",
       "      <th>4</th>\n",
       "      <td>2010-10-13T23:46:11.610000</td>\n",
       "      <td>42.448</td>\n",
       "      <td>13.387</td>\n",
       "      <td>10.2</td>\n",
       "      <td>2.0</td>\n",
       "      <td>8 km E Pizzoli (AQ)</td>\n",
       "    </tr>\n",
       "  </tbody>\n",
       "</table>\n",
       "</div>"
      ],
      "text/plain": [
       "                         Time  Latitude  Longitude  Depth/Km  Magnitude  \\\n",
       "0  2010-10-13T21:41:46.570000    42.623     12.756      10.5        1.7   \n",
       "1  2010-10-13T21:43:14.530000    42.457     13.390      10.8        1.7   \n",
       "2  2010-10-13T23:35:35.700000    42.470     13.377      11.0        0.8   \n",
       "3  2010-10-13T23:44:28.160000    42.474     13.393      12.9        1.3   \n",
       "4  2010-10-13T23:46:11.610000    42.448     13.387      10.2        2.0   \n",
       "\n",
       "        EventLocationName  \n",
       "0  3 km W Ferentillo (TR)  \n",
       "1     8 km E Pizzoli (AQ)  \n",
       "2     8 km E Pizzoli (AQ)  \n",
       "3     9 km E Pizzoli (AQ)  \n",
       "4     8 km E Pizzoli (AQ)  "
      ]
     },
     "execution_count": 2,
     "metadata": {},
     "output_type": "execute_result"
    }
   ],
   "source": [
    "data  = pd.read_csv('../Data/earthquake_dataset.csv')\n",
    "data.head()"
   ]
  },
  {
   "cell_type": "markdown",
   "metadata": {},
   "source": [
    "## Feature engineering"
   ]
  },
  {
   "cell_type": "code",
   "execution_count": 3,
   "metadata": {},
   "outputs": [
    {
     "data": {
      "text/html": [
       "<div>\n",
       "<style scoped>\n",
       "    .dataframe tbody tr th:only-of-type {\n",
       "        vertical-align: middle;\n",
       "    }\n",
       "\n",
       "    .dataframe tbody tr th {\n",
       "        vertical-align: top;\n",
       "    }\n",
       "\n",
       "    .dataframe thead th {\n",
       "        text-align: right;\n",
       "    }\n",
       "</style>\n",
       "<table border=\"1\" class=\"dataframe\">\n",
       "  <thead>\n",
       "    <tr style=\"text-align: right;\">\n",
       "      <th></th>\n",
       "      <th>Latitude</th>\n",
       "      <th>Longitude</th>\n",
       "      <th>Depth/Km</th>\n",
       "      <th>Magnitude</th>\n",
       "      <th>Time/d</th>\n",
       "    </tr>\n",
       "  </thead>\n",
       "  <tbody>\n",
       "    <tr>\n",
       "      <th>0</th>\n",
       "      <td>42.623</td>\n",
       "      <td>12.756</td>\n",
       "      <td>10.5</td>\n",
       "      <td>1.7</td>\n",
       "      <td>14895</td>\n",
       "    </tr>\n",
       "    <tr>\n",
       "      <th>1</th>\n",
       "      <td>42.457</td>\n",
       "      <td>13.390</td>\n",
       "      <td>10.8</td>\n",
       "      <td>1.7</td>\n",
       "      <td>14895</td>\n",
       "    </tr>\n",
       "    <tr>\n",
       "      <th>2</th>\n",
       "      <td>42.470</td>\n",
       "      <td>13.377</td>\n",
       "      <td>11.0</td>\n",
       "      <td>0.8</td>\n",
       "      <td>14895</td>\n",
       "    </tr>\n",
       "    <tr>\n",
       "      <th>3</th>\n",
       "      <td>42.474</td>\n",
       "      <td>13.393</td>\n",
       "      <td>12.9</td>\n",
       "      <td>1.3</td>\n",
       "      <td>14895</td>\n",
       "    </tr>\n",
       "    <tr>\n",
       "      <th>4</th>\n",
       "      <td>42.448</td>\n",
       "      <td>13.387</td>\n",
       "      <td>10.2</td>\n",
       "      <td>2.0</td>\n",
       "      <td>14895</td>\n",
       "    </tr>\n",
       "  </tbody>\n",
       "</table>\n",
       "</div>"
      ],
      "text/plain": [
       "   Latitude  Longitude  Depth/Km  Magnitude  Time/d\n",
       "0    42.623     12.756      10.5        1.7   14895\n",
       "1    42.457     13.390      10.8        1.7   14895\n",
       "2    42.470     13.377      11.0        0.8   14895\n",
       "3    42.474     13.393      12.9        1.3   14895\n",
       "4    42.448     13.387      10.2        2.0   14895"
      ]
     },
     "execution_count": 3,
     "metadata": {},
     "output_type": "execute_result"
    }
   ],
   "source": [
    "dates = [datetime.strptime(x, '%Y-%m-%dT%H:%M:%S.%f') for x in data['Time']]\n",
    "time_s = [int(time.mktime(d.timetuple()) / (60*60*24)) for d in dates]  # days since epoch\n",
    "\n",
    "data['Time/d'] = time_s\n",
    "\n",
    "# select features\n",
    "features = ['Latitude', 'Longitude', 'Depth/Km', 'Magnitude', 'Time/d'] # 'Year', 'Month', 'Day']#, 'Hour']\n",
    "data[features].head()"
   ]
  },
  {
   "cell_type": "code",
   "execution_count": 4,
   "metadata": {
    "collapsed": true
   },
   "outputs": [],
   "source": [
    "data = data[features]\n",
    "labels = []\n",
    "for index, row in data.iterrows():\n",
    "    day = row['Time/d']\n",
    "    # next five days\n",
    "    next_five_days = (data['Time/d'] > day) & (data['Time/d'] <= day+5)\n",
    "    tmp = data[next_five_days]\n",
    "    # earthquake with magnitude greater than 3\n",
    "    tmp = tmp[tmp['Magnitude'] >= 3]\n",
    "    # create label\n",
    "    if len(tmp > 0):\n",
    "        labels.append(1)\n",
    "    else:\n",
    "        labels.append(0)\n",
    "        \n",
    "data['label'] = labels"
   ]
  },
  {
   "cell_type": "code",
   "execution_count": 5,
   "metadata": {},
   "outputs": [
    {
     "data": {
      "text/plain": [
       "11427"
      ]
     },
     "execution_count": 5,
     "metadata": {},
     "output_type": "execute_result"
    }
   ],
   "source": [
    "len(data[data['label']==1])"
   ]
  },
  {
   "cell_type": "code",
   "execution_count": 6,
   "metadata": {},
   "outputs": [
    {
     "data": {
      "text/html": [
       "<div>\n",
       "<style scoped>\n",
       "    .dataframe tbody tr th:only-of-type {\n",
       "        vertical-align: middle;\n",
       "    }\n",
       "\n",
       "    .dataframe tbody tr th {\n",
       "        vertical-align: top;\n",
       "    }\n",
       "\n",
       "    .dataframe thead th {\n",
       "        text-align: right;\n",
       "    }\n",
       "</style>\n",
       "<table border=\"1\" class=\"dataframe\">\n",
       "  <thead>\n",
       "    <tr style=\"text-align: right;\">\n",
       "      <th></th>\n",
       "      <th>Latitude</th>\n",
       "      <th>Longitude</th>\n",
       "      <th>Depth/Km</th>\n",
       "      <th>Magnitude</th>\n",
       "      <th>Time/d</th>\n",
       "      <th>label</th>\n",
       "    </tr>\n",
       "  </thead>\n",
       "  <tbody>\n",
       "    <tr>\n",
       "      <th>0</th>\n",
       "      <td>42.623</td>\n",
       "      <td>12.756</td>\n",
       "      <td>10.5</td>\n",
       "      <td>1.7</td>\n",
       "      <td>14895</td>\n",
       "      <td>0</td>\n",
       "    </tr>\n",
       "    <tr>\n",
       "      <th>1</th>\n",
       "      <td>42.457</td>\n",
       "      <td>13.390</td>\n",
       "      <td>10.8</td>\n",
       "      <td>1.7</td>\n",
       "      <td>14895</td>\n",
       "      <td>0</td>\n",
       "    </tr>\n",
       "    <tr>\n",
       "      <th>2</th>\n",
       "      <td>42.470</td>\n",
       "      <td>13.377</td>\n",
       "      <td>11.0</td>\n",
       "      <td>0.8</td>\n",
       "      <td>14895</td>\n",
       "      <td>0</td>\n",
       "    </tr>\n",
       "    <tr>\n",
       "      <th>3</th>\n",
       "      <td>42.474</td>\n",
       "      <td>13.393</td>\n",
       "      <td>12.9</td>\n",
       "      <td>1.3</td>\n",
       "      <td>14895</td>\n",
       "      <td>0</td>\n",
       "    </tr>\n",
       "    <tr>\n",
       "      <th>4</th>\n",
       "      <td>42.448</td>\n",
       "      <td>13.387</td>\n",
       "      <td>10.2</td>\n",
       "      <td>2.0</td>\n",
       "      <td>14895</td>\n",
       "      <td>0</td>\n",
       "    </tr>\n",
       "  </tbody>\n",
       "</table>\n",
       "</div>"
      ],
      "text/plain": [
       "   Latitude  Longitude  Depth/Km  Magnitude  Time/d  label\n",
       "0    42.623     12.756      10.5        1.7   14895      0\n",
       "1    42.457     13.390      10.8        1.7   14895      0\n",
       "2    42.470     13.377      11.0        0.8   14895      0\n",
       "3    42.474     13.393      12.9        1.3   14895      0\n",
       "4    42.448     13.387      10.2        2.0   14895      0"
      ]
     },
     "execution_count": 6,
     "metadata": {},
     "output_type": "execute_result"
    }
   ],
   "source": [
    "data.head()"
   ]
  },
  {
   "cell_type": "code",
   "execution_count": 73,
   "metadata": {},
   "outputs": [
    {
     "data": {
      "text/plain": [
       "(29969, 2)"
      ]
     },
     "execution_count": 73,
     "metadata": {},
     "output_type": "execute_result"
    }
   ],
   "source": [
    "encoder = LabelEncoder()\n",
    "encoded_Y = encoder.fit_transform(data.label)\n",
    "\n",
    "Y_data = np_utils.to_categorical(encoded_Y)\n",
    "Y_data.shape"
   ]
  },
  {
   "cell_type": "code",
   "execution_count": 62,
   "metadata": {},
   "outputs": [
    {
     "data": {
      "text/plain": [
       "(1, 29969, 2)"
      ]
     },
     "execution_count": 62,
     "metadata": {},
     "output_type": "execute_result"
    }
   ],
   "source": [
    "#Y_data = np.reshape(Y_data, (1,29969,2))\n",
    "#Y_data.shape"
   ]
  },
  {
   "cell_type": "markdown",
   "metadata": {},
   "source": [
    "## Create dataset"
   ]
  },
  {
   "cell_type": "code",
   "execution_count": 8,
   "metadata": {},
   "outputs": [
    {
     "data": {
      "text/plain": [
       "(29969, 5)"
      ]
     },
     "execution_count": 8,
     "metadata": {},
     "output_type": "execute_result"
    }
   ],
   "source": [
    "X_data = data[features].values\n",
    "X_data.shape"
   ]
  },
  {
   "cell_type": "markdown",
   "metadata": {},
   "source": [
    "#### Preprocessing"
   ]
  },
  {
   "cell_type": "code",
   "execution_count": 134,
   "metadata": {
    "collapsed": true
   },
   "outputs": [],
   "source": [
    "standardizer = MinMaxScaler()\n",
    "X_data = standardizer.fit_transform(X_data)"
   ]
  },
  {
   "cell_type": "markdown",
   "metadata": {},
   "source": [
    "#### Train / Validation / Test split"
   ]
  },
  {
   "cell_type": "code",
   "execution_count": 135,
   "metadata": {},
   "outputs": [
    {
     "name": "stdout",
     "output_type": "stream",
     "text": [
      "((20978, 5), (20978, 2))\n"
     ]
    }
   ],
   "source": [
    "# split between train and validation\n",
    "tr_size = int(0.7 * len(X_data))\n",
    "vl_size = int(0.2 * len(X_data))\n",
    "ts_size = int(0.1 * len(X_data))\n",
    "\n",
    "X_data_train, X_data_val, X_data_test = X_data[:tr_size,:], X_data[tr_size:tr_size+vl_size,:], X_data[-ts_size:,:]\n",
    "Y_data_train, Y_data_val, Y_data_test = Y_data[:tr_size,:], Y_data[tr_size:tr_size+vl_size,:], Y_data[-ts_size:,:]\n",
    "\n",
    "print(X_data_train.shape, Y_data_train.shape)"
   ]
  },
  {
   "cell_type": "code",
   "execution_count": 136,
   "metadata": {},
   "outputs": [],
   "source": [
    "def create_dataset(dataset, labels, look_back=1):\n",
    "    \"\"\"\n",
    "    creates pairs of past 'look_back' sequences and next target sequence\n",
    "    \"\"\"\n",
    "    X, Y = [], []\n",
    "    for i in range(len(dataset)-look_back-1):\n",
    "        sequences = dataset[i:(i+look_back)]\n",
    "        target_sequence = labels[i + look_back]\n",
    "        X.append(np.array(sequences))\n",
    "        Y.append(np.array(target_sequence))\n",
    "        \n",
    "    return np.array(X), np.array(Y)"
   ]
  },
  {
   "cell_type": "code",
   "execution_count": 137,
   "metadata": {},
   "outputs": [
    {
     "name": "stdout",
     "output_type": "stream",
     "text": [
      "(20927, 50, 5) (20927, 2)\n",
      "(5942, 50, 5) (5942, 2)\n"
     ]
    }
   ],
   "source": [
    "look_back = 50\n",
    "\n",
    "X_train, Y_train = create_dataset(X_data_train, Y_data_train, look_back)\n",
    "X_val, Y_val = create_dataset(X_data_val, Y_data_val, look_back)\n",
    "X_test, Y_test = create_dataset(X_data_test, Y_data_test, look_back)\n",
    "\n",
    "print X_train.shape, Y_train.shape\n",
    "print X_val.shape, Y_val.shape"
   ]
  },
  {
   "cell_type": "markdown",
   "metadata": {},
   "source": [
    "### Training callbacks"
   ]
  },
  {
   "cell_type": "code",
   "execution_count": 13,
   "metadata": {
    "collapsed": true
   },
   "outputs": [],
   "source": [
    "filepath = 'model.{epoch:02d}-{val_loss:.5f}.hdf5'\n",
    "model_checkpoint = ModelCheckpoint(filepath, monitor='val_loss', verbose=0, save_best_only=True, save_weights_only=False)"
   ]
  },
  {
   "cell_type": "markdown",
   "metadata": {},
   "source": [
    "# Model definition"
   ]
  },
  {
   "cell_type": "code",
   "execution_count": 151,
   "metadata": {
    "scrolled": true
   },
   "outputs": [
    {
     "name": "stdout",
     "output_type": "stream",
     "text": [
      "5 2\n"
     ]
    },
    {
     "name": "stderr",
     "output_type": "stream",
     "text": [
      "/home/carlo/anaconda2/lib/python2.7/site-packages/ipykernel_launcher.py:11: UserWarning: The `input_dim` and `input_length` arguments in recurrent layers are deprecated. Use `input_shape` instead.\n",
      "  # This is added back by InteractiveShellApp.init_path()\n",
      "/home/carlo/anaconda2/lib/python2.7/site-packages/ipykernel_launcher.py:11: UserWarning: Update your `LSTM` call to the Keras 2 API: `LSTM(units=200, return_sequences=True, input_shape=(None, 5))`\n",
      "  # This is added back by InteractiveShellApp.init_path()\n",
      "/home/carlo/anaconda2/lib/python2.7/site-packages/ipykernel_launcher.py:16: UserWarning: Update your `LSTM` call to the Keras 2 API: `LSTM(units=100, return_sequences=True)`\n",
      "  app.launch_new_instance()\n"
     ]
    },
    {
     "name": "stdout",
     "output_type": "stream",
     "text": [
      "_________________________________________________________________\n",
      "Layer (type)                 Output Shape              Param #   \n",
      "=================================================================\n",
      "lstm_54 (LSTM)               (None, None, 200)         164800    \n",
      "_________________________________________________________________\n",
      "dropout_122 (Dropout)        (None, None, 200)         0         \n",
      "_________________________________________________________________\n",
      "lstm_55 (LSTM)               (None, None, 100)         120400    \n",
      "_________________________________________________________________\n",
      "dropout_123 (Dropout)        (None, None, 100)         0         \n",
      "_________________________________________________________________\n",
      "lstm_56 (LSTM)               (None, 50)                30200     \n",
      "_________________________________________________________________\n",
      "dropout_124 (Dropout)        (None, 50)                0         \n",
      "_________________________________________________________________\n",
      "dense_120 (Dense)            (None, 512)               26112     \n",
      "_________________________________________________________________\n",
      "dropout_125 (Dropout)        (None, 512)               0         \n",
      "_________________________________________________________________\n",
      "dense_121 (Dense)            (None, 256)               131328    \n",
      "_________________________________________________________________\n",
      "dropout_126 (Dropout)        (None, 256)               0         \n",
      "_________________________________________________________________\n",
      "dense_122 (Dense)            (None, 2)                 514       \n",
      "=================================================================\n",
      "Total params: 473,354\n",
      "Trainable params: 473,354\n",
      "Non-trainable params: 0\n",
      "_________________________________________________________________\n"
     ]
    },
    {
     "name": "stderr",
     "output_type": "stream",
     "text": [
      "/home/carlo/anaconda2/lib/python2.7/site-packages/ipykernel_launcher.py:21: UserWarning: Update your `LSTM` call to the Keras 2 API: `LSTM(units=50, return_sequences=False)`\n"
     ]
    }
   ],
   "source": [
    "n_inputs = X_train.shape[2]\n",
    "n_outputs = Y_train.shape[1]\n",
    "\n",
    "print n_inputs, n_outputs\n",
    "\n",
    "model = Sequential()\n",
    "\n",
    "model.add(LSTM(\n",
    "    input_dim=n_inputs,\n",
    "    output_dim=200,\n",
    "    return_sequences=True))\n",
    "model.add(Dropout(0.1))\n",
    "\n",
    "model.add(LSTM(\n",
    "    output_dim=100,\n",
    "    return_sequences=True))\n",
    "model.add(Dropout(0.1))\n",
    "\n",
    "model.add(LSTM(\n",
    "    output_dim=50,\n",
    "    return_sequences=False))\n",
    "model.add(Dropout(0.1))\n",
    "\n",
    "model.add(Dense(512, activation='relu'))\n",
    "model.add(Dropout(0.5))\n",
    "model.add(Dense(256, activation='relu'))\n",
    "model.add(Dropout(0.5))\n",
    "#model.add(Dense(128, activation='relu'))\n",
    "#model.add(Dropout(0.5))\n",
    "model.add(Dense(units=n_outputs, activation='softmax'))\n",
    "\n",
    "model.compile(loss='binary_crossentropy', optimizer='rmsprop', metrics=['accuracy'])\n",
    "\n",
    "model.summary()"
   ]
  },
  {
   "cell_type": "code",
   "execution_count": 152,
   "metadata": {
    "scrolled": true
   },
   "outputs": [
    {
     "name": "stdout",
     "output_type": "stream",
     "text": [
      "Train on 3000 samples, validate on 200 samples\n",
      "Epoch 1/40\n",
      "3000/3000 [==============================] - 44s 15ms/step - loss: 0.4235 - acc: 0.8800 - val_loss: 0.7393 - val_acc: 0.8850\n",
      "Epoch 2/40\n",
      "3000/3000 [==============================] - 41s 14ms/step - loss: 0.3963 - acc: 0.8877 - val_loss: 0.6957 - val_acc: 0.8850\n",
      "Epoch 3/40\n",
      "3000/3000 [==============================] - 44s 15ms/step - loss: 0.3950 - acc: 0.8930 - val_loss: 0.6270 - val_acc: 0.8850\n",
      "Epoch 4/40\n",
      "3000/3000 [==============================] - 43s 14ms/step - loss: 0.3887 - acc: 0.8953 - val_loss: 0.6035 - val_acc: 0.8850\n",
      "Epoch 5/40\n",
      "3000/3000 [==============================] - 43s 14ms/step - loss: 0.3724 - acc: 0.8993 - val_loss: 0.6322 - val_acc: 0.8850\n",
      "Epoch 6/40\n",
      "3000/3000 [==============================] - 41s 14ms/step - loss: 0.3534 - acc: 0.9000 - val_loss: 0.6443 - val_acc: 0.8850\n",
      "Epoch 7/40\n",
      "3000/3000 [==============================] - 43s 14ms/step - loss: 0.3530 - acc: 0.9113 - val_loss: 0.6621 - val_acc: 0.8850\n",
      "Epoch 8/40\n",
      "3000/3000 [==============================] - 43s 14ms/step - loss: 0.3433 - acc: 0.9250 - val_loss: 0.6649 - val_acc: 0.8850\n",
      "Epoch 9/40\n",
      "3000/3000 [==============================] - 42s 14ms/step - loss: 0.3565 - acc: 0.9270 - val_loss: 0.7620 - val_acc: 0.8850\n",
      "Epoch 10/40\n",
      "3000/3000 [==============================] - 43s 14ms/step - loss: 0.3626 - acc: 0.9293 - val_loss: 0.7894 - val_acc: 0.8850\n",
      "Epoch 11/40\n",
      "3000/3000 [==============================] - 43s 14ms/step - loss: 0.3673 - acc: 0.9417 - val_loss: 0.8877 - val_acc: 0.8850\n",
      "Epoch 12/40\n",
      "3000/3000 [==============================] - 46s 15ms/step - loss: 0.3459 - acc: 0.9483 - val_loss: 0.9376 - val_acc: 0.8850\n",
      "Epoch 13/40\n",
      "3000/3000 [==============================] - 41s 14ms/step - loss: 0.3941 - acc: 0.9473 - val_loss: 0.8916 - val_acc: 0.8850\n",
      "Epoch 14/40\n",
      "3000/3000 [==============================] - 40s 13ms/step - loss: 0.3743 - acc: 0.9553 - val_loss: 0.9680 - val_acc: 0.8850\n",
      "Epoch 15/40\n",
      "3000/3000 [==============================] - 43s 14ms/step - loss: 0.3627 - acc: 0.9593 - val_loss: 1.0463 - val_acc: 0.8850\n",
      "Epoch 16/40\n",
      "3000/3000 [==============================] - 41s 14ms/step - loss: 0.4199 - acc: 0.9587 - val_loss: 1.0882 - val_acc: 0.8850\n",
      "Epoch 17/40\n",
      "3000/3000 [==============================] - 41s 14ms/step - loss: 0.4848 - acc: 0.9473 - val_loss: 1.8435 - val_acc: 0.8850\n",
      "Epoch 18/40\n",
      "3000/3000 [==============================] - 40s 13ms/step - loss: 0.7447 - acc: 0.9343 - val_loss: 1.8435 - val_acc: 0.8850\n",
      "Epoch 19/40\n",
      "3000/3000 [==============================] - 43s 14ms/step - loss: 0.8871 - acc: 0.9320 - val_loss: 1.8435 - val_acc: 0.8850\n",
      "Epoch 20/40\n",
      "3000/3000 [==============================] - 43s 14ms/step - loss: 5.2953 - acc: 0.6627 - val_loss: 14.1868 - val_acc: 0.1150\n",
      "Epoch 21/40\n",
      "3000/3000 [==============================] - 42s 14ms/step - loss: 2.5054 - acc: 0.8307 - val_loss: 1.8435 - val_acc: 0.8850\n",
      "Epoch 22/40\n",
      "3000/3000 [==============================] - 42s 14ms/step - loss: 3.9403 - acc: 0.7447 - val_loss: 1.8435 - val_acc: 0.8850\n",
      "Epoch 23/40\n",
      "3000/3000 [==============================] - 42s 14ms/step - loss: 2.9700 - acc: 0.8030 - val_loss: 1.8435 - val_acc: 0.8850\n",
      "Epoch 24/40\n",
      "3000/3000 [==============================] - 42s 14ms/step - loss: 6.3194 - acc: 0.5947 - val_loss: 14.1868 - val_acc: 0.1150\n",
      "Epoch 25/40\n",
      "3000/3000 [==============================] - 42s 14ms/step - loss: 3.7625 - acc: 0.7597 - val_loss: 1.8435 - val_acc: 0.8850\n",
      "Epoch 26/40\n",
      "3000/3000 [==============================] - 41s 14ms/step - loss: 3.9616 - acc: 0.7503 - val_loss: 14.1868 - val_acc: 0.1150\n",
      "Epoch 27/40\n",
      "3000/3000 [==============================] - 40s 13ms/step - loss: 6.7968 - acc: 0.5760 - val_loss: 14.1868 - val_acc: 0.1150\n",
      "Epoch 28/40\n",
      "3000/3000 [==============================] - 40s 13ms/step - loss: 6.7915 - acc: 0.5763 - val_loss: 14.1868 - val_acc: 0.1150\n",
      "Epoch 29/40\n",
      "3000/3000 [==============================] - 42s 14ms/step - loss: 6.7968 - acc: 0.5760 - val_loss: 14.1868 - val_acc: 0.1150\n",
      "Epoch 30/40\n",
      "3000/3000 [==============================] - 47s 16ms/step - loss: 6.7968 - acc: 0.5760 - val_loss: 14.1868 - val_acc: 0.1150\n",
      "Epoch 31/40\n",
      "3000/3000 [==============================] - 43s 14ms/step - loss: 6.7968 - acc: 0.5760 - val_loss: 14.1868 - val_acc: 0.1150\n",
      "Epoch 32/40\n",
      "3000/3000 [==============================] - 44s 15ms/step - loss: 6.7968 - acc: 0.5760 - val_loss: 14.1868 - val_acc: 0.1150\n",
      "Epoch 33/40\n",
      "3000/3000 [==============================] - 44s 15ms/step - loss: 6.7968 - acc: 0.5760 - val_loss: 14.1868 - val_acc: 0.1150\n",
      "Epoch 34/40\n",
      "3000/3000 [==============================] - 46s 15ms/step - loss: 6.7968 - acc: 0.5760 - val_loss: 14.1868 - val_acc: 0.1150\n",
      "Epoch 35/40\n",
      "3000/3000 [==============================] - 43s 14ms/step - loss: 6.7968 - acc: 0.5760 - val_loss: 14.1868 - val_acc: 0.1150\n",
      "Epoch 36/40\n",
      "3000/3000 [==============================] - 45s 15ms/step - loss: 6.7968 - acc: 0.5760 - val_loss: 14.1868 - val_acc: 0.1150\n",
      "Epoch 37/40\n",
      "3000/3000 [==============================] - 47s 16ms/step - loss: 6.7968 - acc: 0.5760 - val_loss: 14.1868 - val_acc: 0.1150\n",
      "Epoch 38/40\n",
      "3000/3000 [==============================] - 44s 15ms/step - loss: 6.7968 - acc: 0.5760 - val_loss: 14.1868 - val_acc: 0.1150\n",
      "Epoch 39/40\n",
      "3000/3000 [==============================] - 45s 15ms/step - loss: 6.7968 - acc: 0.5760 - val_loss: 14.1868 - val_acc: 0.1150\n",
      "Epoch 40/40\n",
      "3000/3000 [==============================] - 43s 14ms/step - loss: 6.7968 - acc: 0.5760 - val_loss: 14.1868 - val_acc: 0.1150\n"
     ]
    }
   ],
   "source": [
    "epochs = 40\n",
    "batch_size = 32\n",
    "actual_tr_size = 3000 # actual training set size\n",
    "actual_vl_size = 200\n",
    "\n",
    "#Y_train = np.reshape(Y_train, (1,Y_train.shape[0], Y_train.shape[1]))\n",
    "\n",
    "history = model.fit(X_train[-actual_tr_size:], Y_train[-actual_tr_size:],\n",
    "                    batch_size=batch_size,\n",
    "                    verbose=1, \n",
    "                    callbacks=[model_checkpoint],\n",
    "                    epochs=epochs,\n",
    "                    validation_data=(X_val[:actual_vl_size], Y_val[:actual_vl_size]),\n",
    "                    shuffle=False,\n",
    "                    initial_epoch=0)"
   ]
  },
  {
   "cell_type": "markdown",
   "metadata": {},
   "source": [
    "### Learning curve plot"
   ]
  },
  {
   "cell_type": "code",
   "execution_count": 155,
   "metadata": {},
   "outputs": [
    {
     "data": {
      "image/png": "[encoded data removed]",
      "text/plain": [
       "<matplotlib.figure.Figure at 0x7f637dd28790>"
      ]
     },
     "metadata": {},
     "output_type": "display_data"
    },
    {
     "data": {
      "image/png": "[encoded data removed]",
      "text/plain": [
       "<matplotlib.figure.Figure at 0x7f637dd327d0>"
      ]
     },
     "metadata": {},
     "output_type": "display_data"
    }
   ],
   "source": [
    "loss = history.history['loss']\n",
    "val_loss = history.history['val_loss']\n",
    "\n",
    "acc = history.history['acc']\n",
    "val_acc = history.history['val_acc']\n",
    "\n",
    "plt.plot(loss, linewidth=2, label='train', linestyle='--', marker='o', alpha=0.7)\n",
    "plt.plot(val_loss, linewidth=2, label='valid', marker='o', alpha=0.7)\n",
    "plt.grid()\n",
    "plt.legend()\n",
    "plt.xlabel('Epoch')\n",
    "plt.ylabel('Binary cross entropy')\n",
    "\n",
    "plt.show()\n",
    "\n",
    "plt.plot(acc, linewidth=2, label='train', linestyle='--', marker='o', alpha=0.7)\n",
    "plt.plot(val_acc, linewidth=2, label='valid', marker='o', alpha=0.7)\n",
    "plt.grid()\n",
    "plt.legend()\n",
    "plt.xlabel('Epoch')\n",
    "plt.ylabel('Accuracy')\n",
    "\n",
    "plt.show()"
   ]
  },
  {
   "cell_type": "markdown",
   "metadata": {},
   "source": [
    "## Test set evaluation"
   ]
  },
  {
   "cell_type": "code",
   "execution_count": 148,
   "metadata": {},
   "outputs": [
    {
     "name": "stdout",
     "output_type": "stream",
     "text": [
      "2945/2945 [==============================] - 9s 3ms/step\n",
      " [12.432281970232658, 0.22444821731748726]\n"
     ]
    }
   ],
   "source": [
    "print 'Test set error/accuracy:', model.evaluate(X_test, Y_test)"
   ]
  }
 ],
 "metadata": {
  "kernelspec": {
   "display_name": "Python 2",
   "language": "python",
   "name": "python2"
  },
  "language_info": {
   "codemirror_mode": {
    "name": "ipython",
    "version": 2
   },
   "file_extension": ".py",
   "mimetype": "text/x-python",
   "name": "python",
   "nbconvert_exporter": "python",
   "pygments_lexer": "ipython2",
   "version": "2.7.14"
  }
 },
 "nbformat": 4,
 "nbformat_minor": 2
}
