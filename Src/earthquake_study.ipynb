{
 "cells": [
  {
   "cell_type": "code",
   "execution_count": 10,
   "metadata": {
    "collapsed": true
   },
   "outputs": [],
   "source": [
    "import numpy as np\n",
    "import pandas as pd\n",
    "import matplotlib.pyplot as plt\n",
    "from sklearn import preprocessing"
   ]
  },
  {
   "cell_type": "markdown",
   "metadata": {},
   "source": [
    "### Load data"
   ]
  },
  {
   "cell_type": "code",
   "execution_count": 70,
   "metadata": {
    "scrolled": true
   },
   "outputs": [
    {
     "data": {
      "text/html": [
       "<div>\n",
       "<style scoped>\n",
       "    .dataframe tbody tr th:only-of-type {\n",
       "        vertical-align: middle;\n",
       "    }\n",
       "\n",
       "    .dataframe tbody tr th {\n",
       "        vertical-align: top;\n",
       "    }\n",
       "\n",
       "    .dataframe thead th {\n",
       "        text-align: right;\n",
       "    }\n",
       "</style>\n",
       "<table border=\"1\" class=\"dataframe\">\n",
       "  <thead>\n",
       "    <tr style=\"text-align: right;\">\n",
       "      <th></th>\n",
       "      <th>index</th>\n",
       "      <th>#EventID</th>\n",
       "      <th>Time</th>\n",
       "      <th>Latitude</th>\n",
       "      <th>Longitude</th>\n",
       "      <th>Depth/Km</th>\n",
       "      <th>Author</th>\n",
       "      <th>Catalog</th>\n",
       "      <th>Contributor</th>\n",
       "      <th>ContributorID</th>\n",
       "      <th>MagType</th>\n",
       "      <th>Magnitude</th>\n",
       "      <th>MagAuthor</th>\n",
       "      <th>EventLocationName</th>\n",
       "    </tr>\n",
       "  </thead>\n",
       "  <tbody>\n",
       "    <tr>\n",
       "      <th>0</th>\n",
       "      <td>14970</td>\n",
       "      <td>2269439</td>\n",
       "      <td>2010-10-13T21:41:46.570000</td>\n",
       "      <td>42.623</td>\n",
       "      <td>12.756</td>\n",
       "      <td>10.5</td>\n",
       "      <td>BULLETIN-SISPICK</td>\n",
       "      <td>NaN</td>\n",
       "      <td>NaN</td>\n",
       "      <td>NaN</td>\n",
       "      <td>ML</td>\n",
       "      <td>1.7</td>\n",
       "      <td>--</td>\n",
       "      <td>3 km W Ferentillo (TR)</td>\n",
       "    </tr>\n",
       "    <tr>\n",
       "      <th>1</th>\n",
       "      <td>14969</td>\n",
       "      <td>2269449</td>\n",
       "      <td>2010-10-13T21:43:14.530000</td>\n",
       "      <td>42.457</td>\n",
       "      <td>13.390</td>\n",
       "      <td>10.8</td>\n",
       "      <td>BULLETIN-SISPICK</td>\n",
       "      <td>NaN</td>\n",
       "      <td>NaN</td>\n",
       "      <td>NaN</td>\n",
       "      <td>ML</td>\n",
       "      <td>1.7</td>\n",
       "      <td>--</td>\n",
       "      <td>8 km E Pizzoli (AQ)</td>\n",
       "    </tr>\n",
       "    <tr>\n",
       "      <th>2</th>\n",
       "      <td>14968</td>\n",
       "      <td>2269479</td>\n",
       "      <td>2010-10-13T23:35:35.700000</td>\n",
       "      <td>42.470</td>\n",
       "      <td>13.377</td>\n",
       "      <td>11.0</td>\n",
       "      <td>BULLETIN-SISPICK</td>\n",
       "      <td>NaN</td>\n",
       "      <td>NaN</td>\n",
       "      <td>NaN</td>\n",
       "      <td>ML</td>\n",
       "      <td>0.8</td>\n",
       "      <td>--</td>\n",
       "      <td>8 km E Pizzoli (AQ)</td>\n",
       "    </tr>\n",
       "    <tr>\n",
       "      <th>3</th>\n",
       "      <td>14967</td>\n",
       "      <td>2269489</td>\n",
       "      <td>2010-10-13T23:44:28.160000</td>\n",
       "      <td>42.474</td>\n",
       "      <td>13.393</td>\n",
       "      <td>12.9</td>\n",
       "      <td>BULLETIN-SISPICK</td>\n",
       "      <td>NaN</td>\n",
       "      <td>NaN</td>\n",
       "      <td>NaN</td>\n",
       "      <td>ML</td>\n",
       "      <td>1.3</td>\n",
       "      <td>--</td>\n",
       "      <td>9 km E Pizzoli (AQ)</td>\n",
       "    </tr>\n",
       "    <tr>\n",
       "      <th>4</th>\n",
       "      <td>14966</td>\n",
       "      <td>2269499</td>\n",
       "      <td>2010-10-13T23:46:11.610000</td>\n",
       "      <td>42.448</td>\n",
       "      <td>13.387</td>\n",
       "      <td>10.2</td>\n",
       "      <td>BULLETIN-SISPICK</td>\n",
       "      <td>NaN</td>\n",
       "      <td>NaN</td>\n",
       "      <td>NaN</td>\n",
       "      <td>ML</td>\n",
       "      <td>2.0</td>\n",
       "      <td>--</td>\n",
       "      <td>8 km E Pizzoli (AQ)</td>\n",
       "    </tr>\n",
       "  </tbody>\n",
       "</table>\n",
       "</div>"
      ],
      "text/plain": [
       "   index  #EventID                        Time  Latitude  Longitude  Depth/Km  \\\n",
       "0  14970   2269439  2010-10-13T21:41:46.570000    42.623     12.756      10.5   \n",
       "1  14969   2269449  2010-10-13T21:43:14.530000    42.457     13.390      10.8   \n",
       "2  14968   2269479  2010-10-13T23:35:35.700000    42.470     13.377      11.0   \n",
       "3  14967   2269489  2010-10-13T23:44:28.160000    42.474     13.393      12.9   \n",
       "4  14966   2269499  2010-10-13T23:46:11.610000    42.448     13.387      10.2   \n",
       "\n",
       "             Author  Catalog  Contributor  ContributorID MagType  Magnitude  \\\n",
       "0  BULLETIN-SISPICK      NaN          NaN            NaN      ML        1.7   \n",
       "1  BULLETIN-SISPICK      NaN          NaN            NaN      ML        1.7   \n",
       "2  BULLETIN-SISPICK      NaN          NaN            NaN      ML        0.8   \n",
       "3  BULLETIN-SISPICK      NaN          NaN            NaN      ML        1.3   \n",
       "4  BULLETIN-SISPICK      NaN          NaN            NaN      ML        2.0   \n",
       "\n",
       "  MagAuthor       EventLocationName  \n",
       "0        --  3 km W Ferentillo (TR)  \n",
       "1        --     8 km E Pizzoli (AQ)  \n",
       "2        --     8 km E Pizzoli (AQ)  \n",
       "3        --     9 km E Pizzoli (AQ)  \n",
       "4        --     8 km E Pizzoli (AQ)  "
      ]
     },
     "execution_count": 70,
     "metadata": {},
     "output_type": "execute_result"
    }
   ],
   "source": [
    "query_1 = pd.read_csv('../Data/query_1.csv', delimiter='|')\n",
    "query_2 = pd.read_csv('../Data/query_2.csv', delimiter='|')\n",
    "\n",
    "data = query_1.append(query_2)\n",
    "data.sort_values(by='Time', ascending=True, inplace=True)\n",
    "data = data.reset_index()\n",
    "\n",
    "data.head()"
   ]
  },
  {
   "cell_type": "code",
   "execution_count": 71,
   "metadata": {},
   "outputs": [
    {
     "data": {
      "text/html": [
       "<div>\n",
       "<style scoped>\n",
       "    .dataframe tbody tr th:only-of-type {\n",
       "        vertical-align: middle;\n",
       "    }\n",
       "\n",
       "    .dataframe tbody tr th {\n",
       "        vertical-align: top;\n",
       "    }\n",
       "\n",
       "    .dataframe thead th {\n",
       "        text-align: right;\n",
       "    }\n",
       "</style>\n",
       "<table border=\"1\" class=\"dataframe\">\n",
       "  <thead>\n",
       "    <tr style=\"text-align: right;\">\n",
       "      <th></th>\n",
       "      <th>Time</th>\n",
       "      <th>Latitude</th>\n",
       "      <th>Longitude</th>\n",
       "      <th>Depth/Km</th>\n",
       "      <th>Magnitude</th>\n",
       "      <th>EventLocationName</th>\n",
       "    </tr>\n",
       "  </thead>\n",
       "  <tbody>\n",
       "    <tr>\n",
       "      <th>0</th>\n",
       "      <td>2010-10-13T21:41:46.570000</td>\n",
       "      <td>42.623</td>\n",
       "      <td>12.756</td>\n",
       "      <td>10.5</td>\n",
       "      <td>1.7</td>\n",
       "      <td>3 km W Ferentillo (TR)</td>\n",
       "    </tr>\n",
       "    <tr>\n",
       "      <th>1</th>\n",
       "      <td>2010-10-13T21:43:14.530000</td>\n",
       "      <td>42.457</td>\n",
       "      <td>13.390</td>\n",
       "      <td>10.8</td>\n",
       "      <td>1.7</td>\n",
       "      <td>8 km E Pizzoli (AQ)</td>\n",
       "    </tr>\n",
       "    <tr>\n",
       "      <th>2</th>\n",
       "      <td>2010-10-13T23:35:35.700000</td>\n",
       "      <td>42.470</td>\n",
       "      <td>13.377</td>\n",
       "      <td>11.0</td>\n",
       "      <td>0.8</td>\n",
       "      <td>8 km E Pizzoli (AQ)</td>\n",
       "    </tr>\n",
       "    <tr>\n",
       "      <th>3</th>\n",
       "      <td>2010-10-13T23:44:28.160000</td>\n",
       "      <td>42.474</td>\n",
       "      <td>13.393</td>\n",
       "      <td>12.9</td>\n",
       "      <td>1.3</td>\n",
       "      <td>9 km E Pizzoli (AQ)</td>\n",
       "    </tr>\n",
       "    <tr>\n",
       "      <th>4</th>\n",
       "      <td>2010-10-13T23:46:11.610000</td>\n",
       "      <td>42.448</td>\n",
       "      <td>13.387</td>\n",
       "      <td>10.2</td>\n",
       "      <td>2.0</td>\n",
       "      <td>8 km E Pizzoli (AQ)</td>\n",
       "    </tr>\n",
       "  </tbody>\n",
       "</table>\n",
       "</div>"
      ],
      "text/plain": [
       "                         Time  Latitude  Longitude  Depth/Km  Magnitude  \\\n",
       "0  2010-10-13T21:41:46.570000    42.623     12.756      10.5        1.7   \n",
       "1  2010-10-13T21:43:14.530000    42.457     13.390      10.8        1.7   \n",
       "2  2010-10-13T23:35:35.700000    42.470     13.377      11.0        0.8   \n",
       "3  2010-10-13T23:44:28.160000    42.474     13.393      12.9        1.3   \n",
       "4  2010-10-13T23:46:11.610000    42.448     13.387      10.2        2.0   \n",
       "\n",
       "        EventLocationName  \n",
       "0  3 km W Ferentillo (TR)  \n",
       "1     8 km E Pizzoli (AQ)  \n",
       "2     8 km E Pizzoli (AQ)  \n",
       "3     9 km E Pizzoli (AQ)  \n",
       "4     8 km E Pizzoli (AQ)  "
      ]
     },
     "execution_count": 71,
     "metadata": {},
     "output_type": "execute_result"
    }
   ],
   "source": [
    "interesting_cols = ['Time', 'Latitude', 'Longitude', 'Depth/Km', 'Magnitude', 'EventLocationName']\n",
    "data = data[interesting_cols]\n",
    "\n",
    "data.head()"
   ]
  },
  {
   "cell_type": "markdown",
   "metadata": {},
   "source": [
    "### Basic Information"
   ]
  },
  {
   "cell_type": "code",
   "execution_count": 53,
   "metadata": {},
   "outputs": [
    {
     "name": "stdout",
     "output_type": "stream",
     "text": [
      "<class 'pandas.core.frame.DataFrame'>\n",
      "Int64Index: 29969 entries, 0 to 14970\n",
      "Data columns (total 6 columns):\n",
      "Time                 29969 non-null object\n",
      "Latitude             29969 non-null float64\n",
      "Longitude            29969 non-null float64\n",
      "Depth/Km             29969 non-null float64\n",
      "Magnitude            29969 non-null float64\n",
      "EventLocationName    29969 non-null object\n",
      "dtypes: float64(4), object(2)\n",
      "memory usage: 1.6+ MB\n"
     ]
    }
   ],
   "source": [
    "data.info()"
   ]
  },
  {
   "cell_type": "markdown",
   "metadata": {},
   "source": [
    "### Basic statistics"
   ]
  },
  {
   "cell_type": "code",
   "execution_count": 54,
   "metadata": {},
   "outputs": [
    {
     "data": {
      "text/html": [
       "<div>\n",
       "<style scoped>\n",
       "    .dataframe tbody tr th:only-of-type {\n",
       "        vertical-align: middle;\n",
       "    }\n",
       "\n",
       "    .dataframe tbody tr th {\n",
       "        vertical-align: top;\n",
       "    }\n",
       "\n",
       "    .dataframe thead th {\n",
       "        text-align: right;\n",
       "    }\n",
       "</style>\n",
       "<table border=\"1\" class=\"dataframe\">\n",
       "  <thead>\n",
       "    <tr style=\"text-align: right;\">\n",
       "      <th></th>\n",
       "      <th>Latitude</th>\n",
       "      <th>Longitude</th>\n",
       "      <th>Depth/Km</th>\n",
       "      <th>Magnitude</th>\n",
       "    </tr>\n",
       "  </thead>\n",
       "  <tbody>\n",
       "    <tr>\n",
       "      <th>count</th>\n",
       "      <td>29969.000000</td>\n",
       "      <td>29969.000000</td>\n",
       "      <td>29969.000000</td>\n",
       "      <td>29969.000000</td>\n",
       "    </tr>\n",
       "    <tr>\n",
       "      <th>mean</th>\n",
       "      <td>42.904270</td>\n",
       "      <td>13.030405</td>\n",
       "      <td>10.509326</td>\n",
       "      <td>1.187133</td>\n",
       "    </tr>\n",
       "    <tr>\n",
       "      <th>std</th>\n",
       "      <td>0.308547</td>\n",
       "      <td>0.290352</td>\n",
       "      <td>3.964903</td>\n",
       "      <td>0.427899</td>\n",
       "    </tr>\n",
       "    <tr>\n",
       "      <th>min</th>\n",
       "      <td>42.150000</td>\n",
       "      <td>11.604700</td>\n",
       "      <td>0.100000</td>\n",
       "      <td>0.000000</td>\n",
       "    </tr>\n",
       "    <tr>\n",
       "      <th>25%</th>\n",
       "      <td>42.664000</td>\n",
       "      <td>12.941000</td>\n",
       "      <td>8.600000</td>\n",
       "      <td>0.900000</td>\n",
       "    </tr>\n",
       "    <tr>\n",
       "      <th>50%</th>\n",
       "      <td>42.858800</td>\n",
       "      <td>13.103000</td>\n",
       "      <td>10.100000</td>\n",
       "      <td>1.100000</td>\n",
       "    </tr>\n",
       "    <tr>\n",
       "      <th>75%</th>\n",
       "      <td>43.062700</td>\n",
       "      <td>13.219200</td>\n",
       "      <td>11.400000</td>\n",
       "      <td>1.400000</td>\n",
       "    </tr>\n",
       "    <tr>\n",
       "      <th>max</th>\n",
       "      <td>43.750000</td>\n",
       "      <td>13.791700</td>\n",
       "      <td>70.900000</td>\n",
       "      <td>4.000000</td>\n",
       "    </tr>\n",
       "  </tbody>\n",
       "</table>\n",
       "</div>"
      ],
      "text/plain": [
       "           Latitude     Longitude      Depth/Km     Magnitude\n",
       "count  29969.000000  29969.000000  29969.000000  29969.000000\n",
       "mean      42.904270     13.030405     10.509326      1.187133\n",
       "std        0.308547      0.290352      3.964903      0.427899\n",
       "min       42.150000     11.604700      0.100000      0.000000\n",
       "25%       42.664000     12.941000      8.600000      0.900000\n",
       "50%       42.858800     13.103000     10.100000      1.100000\n",
       "75%       43.062700     13.219200     11.400000      1.400000\n",
       "max       43.750000     13.791700     70.900000      4.000000"
      ]
     },
     "execution_count": 54,
     "metadata": {},
     "output_type": "execute_result"
    }
   ],
   "source": [
    "data.describe()"
   ]
  },
  {
   "cell_type": "markdown",
   "metadata": {},
   "source": [
    "# Exploratory Data Analysis"
   ]
  },
  {
   "cell_type": "code",
   "execution_count": 55,
   "metadata": {},
   "outputs": [
    {
     "data": {
      "text/html": [
       "<div>\n",
       "<style scoped>\n",
       "    .dataframe tbody tr th:only-of-type {\n",
       "        vertical-align: middle;\n",
       "    }\n",
       "\n",
       "    .dataframe tbody tr th {\n",
       "        vertical-align: top;\n",
       "    }\n",
       "\n",
       "    .dataframe thead th {\n",
       "        text-align: right;\n",
       "    }\n",
       "</style>\n",
       "<table border=\"1\" class=\"dataframe\">\n",
       "  <thead>\n",
       "    <tr style=\"text-align: right;\">\n",
       "      <th></th>\n",
       "      <th>Latitude</th>\n",
       "      <th>Longitude</th>\n",
       "      <th>Depth/Km</th>\n",
       "      <th>Magnitude</th>\n",
       "    </tr>\n",
       "  </thead>\n",
       "  <tbody>\n",
       "    <tr>\n",
       "      <th>0</th>\n",
       "      <td>0.406875</td>\n",
       "      <td>0.689300</td>\n",
       "      <td>0.142655</td>\n",
       "      <td>0.425</td>\n",
       "    </tr>\n",
       "    <tr>\n",
       "      <th>1</th>\n",
       "      <td>0.336375</td>\n",
       "      <td>0.716872</td>\n",
       "      <td>0.179379</td>\n",
       "      <td>0.400</td>\n",
       "    </tr>\n",
       "    <tr>\n",
       "      <th>2</th>\n",
       "      <td>0.450125</td>\n",
       "      <td>0.679927</td>\n",
       "      <td>0.125706</td>\n",
       "      <td>0.325</td>\n",
       "    </tr>\n",
       "    <tr>\n",
       "      <th>3</th>\n",
       "      <td>0.532937</td>\n",
       "      <td>0.689346</td>\n",
       "      <td>0.110169</td>\n",
       "      <td>0.400</td>\n",
       "    </tr>\n",
       "    <tr>\n",
       "      <th>4</th>\n",
       "      <td>0.510500</td>\n",
       "      <td>0.665752</td>\n",
       "      <td>0.138418</td>\n",
       "      <td>0.350</td>\n",
       "    </tr>\n",
       "  </tbody>\n",
       "</table>\n",
       "</div>"
      ],
      "text/plain": [
       "   Latitude  Longitude  Depth/Km  Magnitude\n",
       "0  0.406875   0.689300  0.142655      0.425\n",
       "1  0.336375   0.716872  0.179379      0.400\n",
       "2  0.450125   0.679927  0.125706      0.325\n",
       "3  0.532937   0.689346  0.110169      0.400\n",
       "4  0.510500   0.665752  0.138418      0.350"
      ]
     },
     "execution_count": 55,
     "metadata": {},
     "output_type": "execute_result"
    }
   ],
   "source": [
    "# normalize data between 0 and 1\n",
    "numerical_features = ['Latitude', 'Longitude', 'Depth/Km', 'Magnitude']\n",
    "x = data[numerical_features].values\n",
    "min_max_scaler = preprocessing.MinMaxScaler()\n",
    "x_scaled = min_max_scaler.fit_transform(x)\n",
    "\n",
    "data_scaled = pd.DataFrame(x_scaled, columns=numerical_features)\n",
    "data_scaled.head()"
   ]
  },
  {
   "cell_type": "markdown",
   "metadata": {},
   "source": [
    "### Boxplot"
   ]
  },
  {
   "cell_type": "code",
   "execution_count": 56,
   "metadata": {},
   "outputs": [
    {
     "data": {
      "image/png": "[encoded data removed]",
      "text/plain": [
       "<matplotlib.figure.Figure at 0x7f3dbfbca950>"
      ]
     },
     "metadata": {},
     "output_type": "display_data"
    }
   ],
   "source": [
    "data_scaled.boxplot()\n",
    "#plt.savefig('images/box_plot.png')\n",
    "plt.show()"
   ]
  },
  {
   "cell_type": "markdown",
   "metadata": {},
   "source": [
    "### Kernel Density Estimation"
   ]
  },
  {
   "cell_type": "code",
   "execution_count": 57,
   "metadata": {},
   "outputs": [
    {
     "data": {
      "image/png": "[encoded data removed]",
      "text/plain": [
       "<matplotlib.figure.Figure at 0x7f3dbfbca190>"
      ]
     },
     "metadata": {},
     "output_type": "display_data"
    }
   ],
   "source": [
    "data_scaled[numerical_features].plot(kind='kde', style=['-', '--', '-o', ':'], subplots=True)\n",
    "plt.xlim(-0.1,1,1)\n",
    "plt.show()"
   ]
  },
  {
   "cell_type": "markdown",
   "metadata": {},
   "source": [
    "### Histograms"
   ]
  },
  {
   "cell_type": "code",
   "execution_count": 58,
   "metadata": {},
   "outputs": [
    {
     "data": {
      "image/png": "[encoded data removed]",
      "text/plain": [
       "<matplotlib.figure.Figure at 0x7f3dbf581ed0>"
      ]
     },
     "metadata": {},
     "output_type": "display_data"
    }
   ],
   "source": [
    "bins = int(np.ceil(np.log2(data_scaled.values.shape[0]) + 1)) # Sturge's rule for the number of bins\n",
    "data_scaled.plot(kind='hist', bins=bins, subplots=True)\n",
    "plt.show()"
   ]
  },
  {
   "cell_type": "markdown",
   "metadata": {},
   "source": [
    "### Correlation"
   ]
  },
  {
   "cell_type": "code",
   "execution_count": 79,
   "metadata": {},
   "outputs": [
    {
     "data": {
      "image/png": "[encoded data removed]",
      "text/plain": [
       "<matplotlib.figure.Figure at 0x7f3dbbaea090>"
      ]
     },
     "metadata": {},
     "output_type": "display_data"
    }
   ],
   "source": [
    "import seaborn as sns\n",
    "\n",
    "sns.heatmap(data_scaled.corr(method='pearson'))\n",
    "plt.show()"
   ]
  },
  {
   "cell_type": "markdown",
   "metadata": {},
   "source": [
    "# TODO: ML PART"
   ]
  },
  {
   "cell_type": "code",
   "execution_count": null,
   "metadata": {
    "collapsed": true
   },
   "outputs": [],
   "source": []
  }
 ],
 "metadata": {
  "kernelspec": {
   "display_name": "Python 2",
   "language": "python",
   "name": "python2"
  },
  "language_info": {
   "codemirror_mode": {
    "name": "ipython",
    "version": 2
   },
   "file_extension": ".py",
   "mimetype": "text/x-python",
   "name": "python",
   "nbconvert_exporter": "python",
   "pygments_lexer": "ipython2",
   "version": "2.7.14"
  }
 },
 "nbformat": 4,
 "nbformat_minor": 2
}
